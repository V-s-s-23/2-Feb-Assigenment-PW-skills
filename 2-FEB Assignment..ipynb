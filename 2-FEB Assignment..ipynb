{
 "cells": [
  {
   "cell_type": "markdown",
   "id": "8f0f5ff6",
   "metadata": {},
   "source": [
    "# Q1. Explain with an example each when to use a for loop and a while loop."
   ]
  },
  {
   "cell_type": "markdown",
   "id": "f0fc301c",
   "metadata": {},
   "source": [
    "# Answer:-\n",
    "# 1. FOR LOOP- for loop is used to run a block of code for a certain number of times,It is used to iterate over any sequences such as list, tuple, string, etc.. EXP-\n"
   ]
  },
  {
   "cell_type": "code",
   "execution_count": 1,
   "id": "1233ac63",
   "metadata": {},
   "outputs": [
    {
     "name": "stdout",
     "output_type": "stream",
     "text": [
      "[2, 3, 4, 5]\n"
     ]
    }
   ],
   "source": [
    "# add 1 into every element of the list\n",
    "l1 = [1,2,3,4]\n",
    "l2 = []\n",
    "for i in l1:\n",
    "    l2.append(i+1)\n",
    "print(l2)"
   ]
  },
  {
   "cell_type": "markdown",
   "id": "34a33161",
   "metadata": {},
   "source": [
    "# 2. WHILE LOOP- is used to run a block code until a certain condition is met. EXP-"
   ]
  },
  {
   "cell_type": "code",
   "execution_count": 2,
   "id": "98c22668",
   "metadata": {},
   "outputs": [
    {
     "name": "stdout",
     "output_type": "stream",
     "text": [
      "[2, 3, 4, 5]\n"
     ]
    }
   ],
   "source": [
    "a_list = [1,2,3,4]\n",
    "b_list = []\n",
    "i=0\n",
    "while i<len(a_list): # when this condition will false loop will not execute \n",
    "    b_list.append(a_list[i]+1)\n",
    "    i=i+1\n",
    "print(b_list) "
   ]
  },
  {
   "cell_type": "code",
   "execution_count": null,
   "id": "d726544e",
   "metadata": {},
   "outputs": [],
   "source": []
  },
  {
   "cell_type": "markdown",
   "id": "2db6a0cc",
   "metadata": {},
   "source": [
    "# Q2. Write a python program to print the sum and product of the first 10 natural numbers using for and while loop."
   ]
  },
  {
   "cell_type": "markdown",
   "id": "62443c68",
   "metadata": {},
   "source": [
    "# While loop"
   ]
  },
  {
   "cell_type": "code",
   "execution_count": 3,
   "id": "1a90d808",
   "metadata": {},
   "outputs": [
    {
     "name": "stdout",
     "output_type": "stream",
     "text": [
      "55\n"
     ]
    }
   ],
   "source": [
    "# sum of first 10 natural numbers\n",
    "num = 10\n",
    "l1 = 0\n",
    "counter = 1\n",
    "while counter<=num:\n",
    "    l1 = l1+counter\n",
    "    counter = counter+1\n",
    "print(l1)"
   ]
  },
  {
   "cell_type": "code",
   "execution_count": 4,
   "id": "77343382",
   "metadata": {},
   "outputs": [
    {
     "name": "stdout",
     "output_type": "stream",
     "text": [
      "3628800\n"
     ]
    }
   ],
   "source": [
    "# product of first 10 natural 10 numbers\n",
    "num = 10\n",
    "l1 = 1\n",
    "counter = 1\n",
    "while counter<=num:\n",
    "    l1 = l1*counter\n",
    "    counter = counter+1\n",
    "print(l1)"
   ]
  },
  {
   "cell_type": "markdown",
   "id": "2ac41284",
   "metadata": {},
   "source": [
    "# FOR LOOP"
   ]
  },
  {
   "cell_type": "code",
   "execution_count": 5,
   "id": "d4dfde7f",
   "metadata": {},
   "outputs": [
    {
     "data": {
      "text/plain": [
       "55"
      ]
     },
     "execution_count": 5,
     "metadata": {},
     "output_type": "execute_result"
    }
   ],
   "source": [
    "# sum of first 10 natural numbers\n",
    "l1 = 0\n",
    "for i in range(1,11):\n",
    "    l1 = i+l1\n",
    "l1 "
   ]
  },
  {
   "cell_type": "code",
   "execution_count": 6,
   "id": "ba031405",
   "metadata": {},
   "outputs": [
    {
     "data": {
      "text/plain": [
       "3628800"
      ]
     },
     "execution_count": 6,
     "metadata": {},
     "output_type": "execute_result"
    }
   ],
   "source": [
    "# product of first 10 natural 10 numbers\n",
    "l1 = 1\n",
    "for i in range(1,11):\n",
    "    l1 = i*l1\n",
    "l1 "
   ]
  },
  {
   "cell_type": "markdown",
   "id": "fdaf8b97",
   "metadata": {},
   "source": [
    "# Q3. Create a python program to compute the electricity bill for a household.\n",
    "# The per-unit charges in rupees are as follows: For the first 100 units, the user will be charged Rs. 4.5 per unit, for the next 100 units, the user will be charged Rs. 6 per unit, and for the next 100 units, the user will be charged Rs. 10 per unit, After 300 units and above the user will be charged Rs. 20 per unit.\n",
    "# You are required to take the units of electricity consumed in a month from the user as input.\n",
    "# Your program must pass this test case: when the unit of electricity consumed by the user in a month is 310, the total electricity bill should be 2250."
   ]
  },
  {
   "cell_type": "code",
   "execution_count": 21,
   "id": "d7eef7dc",
   "metadata": {},
   "outputs": [
    {
     "name": "stdout",
     "output_type": "stream",
     "text": [
      "Enter the unit of electricity consumed310\n",
      "Total Amount Payble-> 2250.0\n"
     ]
    }
   ],
   "source": [
    "# Anawer :-\n",
    "units = int(input('Enter the unit of electricity consumed'))\n",
    "if (units<=100):\n",
    "    payAmount=units*4.5\n",
    "    \n",
    "elif (units<=200):\n",
    "    payAmount = (100*4.5)+(units-100)*6\n",
    "    \n",
    "elif (units<=300):\n",
    "    payAmount = (100*4.5)+(200-100)*6+(units-200)*10\n",
    "    \n",
    "elif(units>300):\n",
    "    payAmount = (100*4.5)+(200-100)*6+(300-200)*10+(units-300)*20\n",
    "\n",
    "print(\"Total Amount Payble->\",payAmount)"
   ]
  },
  {
   "cell_type": "markdown",
   "id": "f81982a6",
   "metadata": {},
   "source": [
    "# Q4. Create a list of numbers from 1 to 100. Use for loop and while loop to calculate the cube of each number and if the cube of that number is divisible by 4 or 5 then append that number in a list and print that list."
   ]
  },
  {
   "cell_type": "code",
   "execution_count": 7,
   "id": "bee8de49",
   "metadata": {},
   "outputs": [
    {
     "name": "stdout",
     "output_type": "stream",
     "text": [
      "[8, 64, 125, 216, 512, 1000, 1728, 2744, 3375, 4096, 5832, 8000, 10648, 13824, 15625, 17576, 21952, 27000, 32768, 39304, 42875, 46656, 54872, 64000, 74088, 85184, 91125, 97336, 110592, 125000, 140608, 157464, 166375, 175616, 195112, 216000, 238328, 262144, 274625, 287496, 314432, 343000, 373248, 405224, 421875, 438976, 474552, 512000, 551368, 592704, 614125, 636056, 681472, 729000, 778688, 830584, 857375, 884736, 941192, 1000000]\n"
     ]
    }
   ],
   "source": [
    "l1 = list(range(1,101)) # we take range 1 to 101 because last number is exclusive in python\n",
    "l2 = []\n",
    "for i in l1:\n",
    "    t = i**3\n",
    "    if (t%4==0) or (t%5==0):\n",
    "        l2.append(t)\n",
    "print(l2)"
   ]
  },
  {
   "cell_type": "markdown",
   "id": "463aae34",
   "metadata": {},
   "source": [
    "# Q5. Write a program to filter count vowels in the below-given string.\n",
    "# string = \"I want to become a data scientist\""
   ]
  },
  {
   "cell_type": "code",
   "execution_count": 8,
   "id": "277af716",
   "metadata": {},
   "outputs": [
    {
     "name": "stdout",
     "output_type": "stream",
     "text": [
      "Number of vowels are:\n",
      "12\n"
     ]
    }
   ],
   "source": [
    "string=\"I want to become a data scientist\"\n",
    "vowels=0\n",
    "for i in string:\n",
    "      if(i=='a' or i=='e' or i=='i' or i=='o' or i=='u' or i=='A' or i=='E' or i=='I' or i=='O' or i=='U'):\n",
    "            vowels=vowels+1\n",
    "print(\"Number of vowels are:\")\n",
    "print(vowels)"
   ]
  },
  {
   "cell_type": "code",
   "execution_count": null,
   "id": "5d5322b2",
   "metadata": {},
   "outputs": [],
   "source": []
  }
 ],
 "metadata": {
  "kernelspec": {
   "display_name": "Python 3 (ipykernel)",
   "language": "python",
   "name": "python3"
  },
  "language_info": {
   "codemirror_mode": {
    "name": "ipython",
    "version": 3
   },
   "file_extension": ".py",
   "mimetype": "text/x-python",
   "name": "python",
   "nbconvert_exporter": "python",
   "pygments_lexer": "ipython3",
   "version": "3.9.12"
  }
 },
 "nbformat": 4,
 "nbformat_minor": 5
}
